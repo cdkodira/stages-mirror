{
 "cells": [
  {
   "cell_type": "code",
   "execution_count": 1,
   "id": "4c1e6660",
   "metadata": {
    "ExecuteTime": {
     "end_time": "2023-05-04T03:27:54.432394Z",
     "start_time": "2023-05-04T03:27:54.118515Z"
    }
   },
   "outputs": [],
   "source": [
    "import pandas as pd\n",
    "import numpy as np\n",
    "\n",
    "import regex as re"
   ]
  },
  {
   "cell_type": "code",
   "execution_count": 11,
   "id": "baace90f",
   "metadata": {
    "ExecuteTime": {
     "end_time": "2023-05-04T03:38:55.001973Z",
     "start_time": "2023-05-04T03:38:54.810292Z"
    }
   },
   "outputs": [],
   "source": [
    "df = pd.read_csv(\"../../FeatureCounts_GeneSymbols.csv\", index_col=0)"
   ]
  },
  {
   "cell_type": "code",
   "execution_count": 12,
   "id": "ea50420d",
   "metadata": {
    "ExecuteTime": {
     "end_time": "2023-05-04T03:39:04.465933Z",
     "start_time": "2023-05-04T03:39:04.385262Z"
    }
   },
   "outputs": [],
   "source": [
    "df = np.log2(df+1)"
   ]
  },
  {
   "cell_type": "code",
   "execution_count": 13,
   "id": "15fa8b8b",
   "metadata": {
    "ExecuteTime": {
     "end_time": "2023-05-04T03:39:22.400402Z",
     "start_time": "2023-05-04T03:39:20.584673Z"
    }
   },
   "outputs": [],
   "source": [
    "df.to_csv(\"../../FeatureCounts_GeneSymbols.csv\")"
   ]
  },
  {
   "cell_type": "code",
   "execution_count": null,
   "id": "bc62f050",
   "metadata": {},
   "outputs": [],
   "source": []
  }
 ],
 "metadata": {
  "kernelspec": {
   "display_name": "Python 3 (ipykernel)",
   "language": "python",
   "name": "python3"
  },
  "language_info": {
   "codemirror_mode": {
    "name": "ipython",
    "version": 3
   },
   "file_extension": ".py",
   "mimetype": "text/x-python",
   "name": "python",
   "nbconvert_exporter": "python",
   "pygments_lexer": "ipython3",
   "version": "3.9.7"
  },
  "toc": {
   "base_numbering": 1,
   "nav_menu": {},
   "number_sections": true,
   "sideBar": true,
   "skip_h1_title": false,
   "title_cell": "Table of Contents",
   "title_sidebar": "Contents",
   "toc_cell": false,
   "toc_position": {},
   "toc_section_display": true,
   "toc_window_display": false
  },
  "varInspector": {
   "cols": {
    "lenName": 16,
    "lenType": 16,
    "lenVar": 40
   },
   "kernels_config": {
    "python": {
     "delete_cmd_postfix": "",
     "delete_cmd_prefix": "del ",
     "library": "var_list.py",
     "varRefreshCmd": "print(var_dic_list())"
    },
    "r": {
     "delete_cmd_postfix": ") ",
     "delete_cmd_prefix": "rm(",
     "library": "var_list.r",
     "varRefreshCmd": "cat(var_dic_list()) "
    }
   },
   "types_to_exclude": [
    "module",
    "function",
    "builtin_function_or_method",
    "instance",
    "_Feature"
   ],
   "window_display": false
  }
 },
 "nbformat": 4,
 "nbformat_minor": 5
}
