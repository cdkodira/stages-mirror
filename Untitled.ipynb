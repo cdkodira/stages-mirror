{
 "cells": [
  {
   "cell_type": "code",
   "execution_count": 12,
   "id": "ad78e036",
   "metadata": {
    "ExecuteTime": {
     "end_time": "2023-03-15T07:46:09.455201Z",
     "start_time": "2023-03-15T07:46:09.451391Z"
    }
   },
   "outputs": [],
   "source": [
    "import pandas as pd\n",
    "import pingouin as pg\n",
    "from scipy import stats\n",
    "import numpy as np\n",
    "\n",
    "from anndata import AnnData"
   ]
  },
  {
   "cell_type": "code",
   "execution_count": 2,
   "id": "b870999a",
   "metadata": {
    "ExecuteTime": {
     "end_time": "2023-03-15T07:36:21.236512Z",
     "start_time": "2023-03-15T07:36:13.111968Z"
    }
   },
   "outputs": [],
   "source": [
    "counts = pd.read_excel(\"../Candice Zoster Vaccine/Preprocessed/RNASeq/SV_raw_data_decoupler.xlsx\", sheet_name='SV_raw_data_means', index_col=0)\n",
    "metadata = pd.read_excel(\"../Candice Zoster Vaccine/Preprocessed/combined_traits.xlsx\", sheet_name=\"Simplified\", index_col=0)\n",
    "\n",
    "counts = counts.T.sort_index(axis=0)\n",
    "metadata = metadata.sort_index(axis=0)"
   ]
  },
  {
   "cell_type": "code",
   "execution_count": 3,
   "id": "fe07541e",
   "metadata": {
    "ExecuteTime": {
     "end_time": "2023-03-15T07:36:21.242912Z",
     "start_time": "2023-03-15T07:36:21.237338Z"
    }
   },
   "outputs": [],
   "source": [
    "adata = AnnData(counts, obs=metadata, dtype=\"float32\")"
   ]
  },
  {
   "cell_type": "code",
   "execution_count": 10,
   "id": "09689eb1",
   "metadata": {
    "ExecuteTime": {
     "end_time": "2023-03-15T07:43:10.601551Z",
     "start_time": "2023-03-15T07:43:10.589623Z"
    }
   },
   "outputs": [],
   "source": [
    "def pval(adata, comp_var, baseline, against_baseline, is_paired=False) -> pd.DataFrame:\n",
    "    pval_df = pd.DataFrame()\n",
    "    for base in baseline:\n",
    "        base_ct = adata[adata.obs[comp_var] == base].to_df() # Filter with obs first, then to_df() because otherwise it's just an array without index/columns\n",
    "        for comp in against_baseline:\n",
    "            comp_ct = adata[adata.obs[comp_var] == comp].to_df()\n",
    "            all_genes = pd.concat([pg.ttest(base_ct.loc[:,i], y = comp_ct.loc[:,i], paired=is_paired) for i in base_ct.columns], axis=0)\n",
    "            all_genes.index = base_ct.columns\n",
    "            genes_pval = all_genes.loc[:,'p-val']\n",
    "            genes_pval.columns = [f\"pval_{comp}_vs_{base}\"]\n",
    "            pval_df = pd.concat([pval_df, genes_pval], axis=1)\n",
    "    return pval_df"
   ]
  },
  {
   "cell_type": "code",
   "execution_count": 21,
   "id": "877ce2bb",
   "metadata": {
    "ExecuteTime": {
     "end_time": "2023-03-15T07:53:35.667843Z",
     "start_time": "2023-03-15T07:53:35.655980Z"
    }
   },
   "outputs": [],
   "source": [
    "def pval_scipy(adata, comp_var, baseline, against_baseline, equalvar=False) -> pd.DataFrame:\n",
    "    pval_df = pd.DataFrame()\n",
    "    for base in baseline:\n",
    "        base_ct = adata[adata.obs[comp_var] == base].to_df() # Filter with obs first, then to_df() because otherwise it's just an array without index/columns\n",
    "        for comp in against_baseline:\n",
    "            comp_ct = adata[adata.obs[comp_var] == comp].to_df()\n",
    "            \n",
    "            genes_pval = pd.DataFrame()\n",
    "            for i in base_ct.columns:\n",
    "                T, p = stats.ttest_ind(base_ct.loc[:,i], comp_ct.loc[:,i], equal_var=equalvar, nan_policy='omit')\n",
    "                genes_pval = pd.concat([genes_pval, pd.DataFrame(data={f'pval_{comp}_vs_{base}':p}, index=[i])], axis=0)\n",
    "            pval_df = pd.concat([pval_df, genes_pval], axis=1)\n",
    "    return pval_df"
   ]
  },
  {
   "cell_type": "code",
   "execution_count": 11,
   "id": "8925249c",
   "metadata": {
    "ExecuteTime": {
     "end_time": "2023-03-15T07:43:39.360937Z",
     "start_time": "2023-03-15T07:43:13.707963Z"
    }
   },
   "outputs": [
    {
     "data": {
      "text/html": [
       "<div>\n",
       "<style scoped>\n",
       "    .dataframe tbody tr th:only-of-type {\n",
       "        vertical-align: middle;\n",
       "    }\n",
       "\n",
       "    .dataframe tbody tr th {\n",
       "        vertical-align: top;\n",
       "    }\n",
       "\n",
       "    .dataframe thead th {\n",
       "        text-align: right;\n",
       "    }\n",
       "</style>\n",
       "<table border=\"1\" class=\"dataframe\">\n",
       "  <thead>\n",
       "    <tr style=\"text-align: right;\">\n",
       "      <th></th>\n",
       "      <th>p-val</th>\n",
       "    </tr>\n",
       "  </thead>\n",
       "  <tbody>\n",
       "    <tr>\n",
       "      <th>A1BG-AS1</th>\n",
       "      <td>0.959781</td>\n",
       "    </tr>\n",
       "    <tr>\n",
       "      <th>AAAS</th>\n",
       "      <td>0.483024</td>\n",
       "    </tr>\n",
       "    <tr>\n",
       "      <th>AACS</th>\n",
       "      <td>0.329249</td>\n",
       "    </tr>\n",
       "    <tr>\n",
       "      <th>AAGAB</th>\n",
       "      <td>0.249325</td>\n",
       "    </tr>\n",
       "    <tr>\n",
       "      <th>AAK1</th>\n",
       "      <td>0.005873</td>\n",
       "    </tr>\n",
       "    <tr>\n",
       "      <th>...</th>\n",
       "      <td>...</td>\n",
       "    </tr>\n",
       "    <tr>\n",
       "      <th>ZXDC</th>\n",
       "      <td>0.295285</td>\n",
       "    </tr>\n",
       "    <tr>\n",
       "      <th>ZYG11B</th>\n",
       "      <td>0.748642</td>\n",
       "    </tr>\n",
       "    <tr>\n",
       "      <th>ZYX</th>\n",
       "      <td>0.058129</td>\n",
       "    </tr>\n",
       "    <tr>\n",
       "      <th>ZZEF1</th>\n",
       "      <td>0.368229</td>\n",
       "    </tr>\n",
       "    <tr>\n",
       "      <th>ZZZ3</th>\n",
       "      <td>0.038643</td>\n",
       "    </tr>\n",
       "  </tbody>\n",
       "</table>\n",
       "<p>12406 rows × 1 columns</p>\n",
       "</div>"
      ],
      "text/plain": [
       "             p-val\n",
       "A1BG-AS1  0.959781\n",
       "AAAS      0.483024\n",
       "AACS      0.329249\n",
       "AAGAB     0.249325\n",
       "AAK1      0.005873\n",
       "...            ...\n",
       "ZXDC      0.295285\n",
       "ZYG11B    0.748642\n",
       "ZYX       0.058129\n",
       "ZZEF1     0.368229\n",
       "ZZZ3      0.038643\n",
       "\n",
       "[12406 rows x 1 columns]"
      ]
     },
     "execution_count": 11,
     "metadata": {},
     "output_type": "execute_result"
    }
   ],
   "source": [
    "pval(adata=adata, comp_var=\"Timepoint\", baseline=['D0'], against_baseline=['D1'])"
   ]
  },
  {
   "cell_type": "code",
   "execution_count": 29,
   "id": "d1c6223f",
   "metadata": {
    "ExecuteTime": {
     "end_time": "2023-03-15T07:58:35.900905Z",
     "start_time": "2023-03-15T07:58:29.151416Z"
    }
   },
   "outputs": [],
   "source": [
    "a = pval_scipy(adata=adata, comp_var=\"Timepoint\", baseline=['D0'], against_baseline=['D1'], equalvar=True)"
   ]
  },
  {
   "cell_type": "code",
   "execution_count": 30,
   "id": "5d58db1f",
   "metadata": {
    "ExecuteTime": {
     "end_time": "2023-03-15T07:58:36.764203Z",
     "start_time": "2023-03-15T07:58:36.754830Z"
    }
   },
   "outputs": [
    {
     "data": {
      "text/plain": [
       "4447"
      ]
     },
     "execution_count": 30,
     "metadata": {},
     "output_type": "execute_result"
    }
   ],
   "source": [
    "len(a[a['pval_D1_vs_D0'] < 0.05])"
   ]
  },
  {
   "cell_type": "code",
   "execution_count": null,
   "id": "fdceaf3a",
   "metadata": {},
   "outputs": [],
   "source": []
  },
  {
   "cell_type": "code",
   "execution_count": null,
   "id": "44e4f1d9",
   "metadata": {},
   "outputs": [],
   "source": []
  }
 ],
 "metadata": {
  "kernelspec": {
   "display_name": "Python 3 (ipykernel)",
   "language": "python",
   "name": "python3"
  },
  "language_info": {
   "codemirror_mode": {
    "name": "ipython",
    "version": 3
   },
   "file_extension": ".py",
   "mimetype": "text/x-python",
   "name": "python",
   "nbconvert_exporter": "python",
   "pygments_lexer": "ipython3",
   "version": "3.9.7"
  },
  "toc": {
   "base_numbering": 1,
   "nav_menu": {},
   "number_sections": true,
   "sideBar": true,
   "skip_h1_title": false,
   "title_cell": "Table of Contents",
   "title_sidebar": "Contents",
   "toc_cell": false,
   "toc_position": {},
   "toc_section_display": true,
   "toc_window_display": false
  },
  "varInspector": {
   "cols": {
    "lenName": 16,
    "lenType": 16,
    "lenVar": 40
   },
   "kernels_config": {
    "python": {
     "delete_cmd_postfix": "",
     "delete_cmd_prefix": "del ",
     "library": "var_list.py",
     "varRefreshCmd": "print(var_dic_list())"
    },
    "r": {
     "delete_cmd_postfix": ") ",
     "delete_cmd_prefix": "rm(",
     "library": "var_list.r",
     "varRefreshCmd": "cat(var_dic_list()) "
    }
   },
   "types_to_exclude": [
    "module",
    "function",
    "builtin_function_or_method",
    "instance",
    "_Feature"
   ],
   "window_display": false
  }
 },
 "nbformat": 4,
 "nbformat_minor": 5
}
